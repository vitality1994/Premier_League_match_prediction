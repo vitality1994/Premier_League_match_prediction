{
 "cells": [
  {
   "cell_type": "code",
   "execution_count": 6,
   "id": "db3e02e0-9401-4419-8f7b-23e176a6a178",
   "metadata": {},
   "outputs": [],
   "source": [
    "import json\n",
    "\n",
    "def read_jsonl_file(path):\n",
    "    json_lines = []\n",
    "    with open(path, 'r') as f:\n",
    "        for line in f:\n",
    "            json_lines.append(json.loads(line.strip()))\n",
    "    return json_lines\n",
    "\n",
    "matches = read_jsonl_file('aml_5525-main/dataset/processed/team_ids_player_idssss.json')"
   ]
  },
  {
   "cell_type": "code",
   "execution_count": 7,
   "id": "876b13b2-6b6e-4e71-af04-d5dded26da9c",
   "metadata": {},
   "outputs": [
    {
     "name": "stdout",
     "output_type": "stream",
     "text": [
      "2012-13 season length of test set is 80\n",
      "2012-13 season length of training set is 300\n",
      "2013-14 season length of test set is 80\n",
      "2013-14 season length of training set is 300\n",
      "2014-15 season length of test set is 80\n",
      "2014-15 season length of training set is 300\n",
      "2015-16 season length of test set is 80\n",
      "2015-16 season length of training set is 300\n",
      "2016-17 season length of test set is 80\n",
      "2016-17 season length of training set is 293\n",
      "2017-18 season length of test set is 80\n",
      "2017-18 season length of training set is 300\n",
      "2018-19 season length of test set is 80\n",
      "2018-19 season length of training set is 300\n",
      "2019-20 season length of test set is 80\n",
      "2019-20 season length of training set is 300\n",
      "2020-21 season length of test set is 80\n",
      "2020-21 season length of training set is 300\n",
      "2021-22 season length of test set is 80\n",
      "2021-22 season length of training set is 300\n"
     ]
    }
   ],
   "source": [
    "import random\n",
    "\n",
    "random.shuffle\n",
    "\n",
    "club_ids = [23, 4, 3, 40, 1, 7, 25, 27, 12, 31, 21, 33, 11, 39, 13, 2, 34, 37, 18, 10, 29, 26, 5, 19, 22, 28, 15, 9, 20, 42, 127, 45, 36, 6, 14, 17, 8, 35, 16, 24, 38, 43, 131, 32, 159, 46, 41, 130, 44, 30]\n",
    "season_match = {'2012-13':[],'2013-14':[],'2014-15':[],'2015-16':[],'2016-17':[],'2017-18':[],'2018-19':[],'2019-20':[],'2020-21':[],'2021-22':[]}\n",
    "season_no = ['2012-13','2013-14','2014-15','2015-16','2016-17','2017-18','2018-19','2019-20','2020-21','2021-22']\n",
    "\n",
    "combined_test_set = []\n",
    "combined_training_set = []\n",
    "\n",
    "for i in range(len(matches)):\n",
    "    one_match = matches[i]\n",
    "    season = one_match['season']\n",
    "    season_match[season].append(one_match)\n",
    "\n",
    "for j in season_no:\n",
    "    test_set = []\n",
    "    training_set = []\n",
    "    combined = season_match[j]\n",
    "    random.shuffle(combined)\n",
    "    for i in range(len(club_ids)):\n",
    "        club_id = club_ids[i]\n",
    "        matched = 1\n",
    "        for match in combined:\n",
    "            home_id = match['home_id']\n",
    "            if club_id == home_id and matched < 5:\n",
    "                test_set.append(match)\n",
    "                matched = matched + 1\n",
    "            elif club_id == home_id and matched > 4:\n",
    "                training_set.append(match)\n",
    "    print(j,'season','length of test set is',len(test_set))\n",
    "    print(j,'season','length of training set is',len(training_set))\n",
    "    combined_test_set.append(test_set)\n",
    "    combined_training_set.append(training_set)\n",
    "    \n",
    "#combined_test_set[0]은 2012-13시즌 test_set이고.....이런 식으로 정리했습니다."
   ]
  },
  {
   "cell_type": "code",
   "execution_count": 13,
   "id": "3672cfbd-725c-4749-a1ea-0af346753bff",
   "metadata": {},
   "outputs": [],
   "source": [
    "import json\n",
    "\n",
    "import numpy as np\n",
    "import pandas as pd\n",
    "from sklearn import metrics\n",
    "from sklearn.model_selection import train_test_split, RandomizedSearchCV\n",
    "from sklearn.svm import SVC\n",
    "from sklearn.base import BaseEstimator, clone\n",
    "from scipy.stats import uniform\n",
    "import matplotlib.pyplot as plt\n",
    "\n",
    "club_ids = [23, 4, 3, 40, 1, 7, 25, 27, 12, 31, 21, 33, 11, 39, 13, 2, 34, 37, 18, 10, 29, 26, 5, 19, 22, 28, 15, 9, 20, 42, 127, 45, 36, 6, 14, 17, 8, 35, 16, 24, 38, 43, 131, 32, 159, 46, 41, 130, 44, 30]\n",
    "club_ratings = [0.5, 0.5, 0.5, 0.5, 0.5, 0.5, 0.5, 0.5, 0.5, 0.5, 0.5, 0.5, 0.5, 0.5, 0.5, 0.5, 0.5, 0.5, 0.5, 0.5, 0.5, 0.5, 0.5, 0.5, 0.5, 0.5, 0.5, 0.5, 0.5, 0.5, 0.5, 0.5, 0.5, 0.5, 0.5, 0.5, 0.5, 0.5, 0.5, 0.5, 0.5, 0.5, 0.5, 0.5, 0.5, 0.5, 0.5, 0.5, 0.5, 0.5]\n",
    "\n",
    "def read_jsonl_file(path):\n",
    "    json_lines = []\n",
    "    with open(path, 'r') as f:\n",
    "        for line in f:\n",
    "            json_lines.append(json.loads(line.strip()))\n",
    "    return json_lines\n",
    "\n",
    "\n",
    "def flatten_list_of_lists(list_of_lists):\n",
    "    return [item for sublist in list_of_lists for item in sublist]\n",
    "\n",
    "\n",
    "class JuilELO(BaseEstimator):\n",
    "    def __init__(self, threshold):\n",
    "        super(JuilELO, self).__init__()\n",
    "        self.threshold = threshold\n",
    "        \n",
    "    def fit(self,X_train,y_train):\n",
    "        c = 10\n",
    "        d = 400\n",
    "        k = 1\n",
    "        ids = club_ids\n",
    "        ratings = club_ratings\n",
    "        threshold = self.threshold\n",
    "        for i in range(len(y_train)):\n",
    "            home_index = ids.index(X_train[i][0])\n",
    "            home_rating = ratings[home_index]\n",
    "            away_index = ids.index(X_train[i][1])\n",
    "            away_rating = ratings[away_index]\n",
    "            home_prediction = 1/(1+c**((away_rating - home_rating)/d))\n",
    "            away_prediction = 1 - home_prediction\n",
    "            real_result = y_train[i]\n",
    "            home_rating = home_rating + k*(real_result - home_prediction)\n",
    "            away_rating = away_rating + k*(real_result - away_prediction)\n",
    "            ratings[home_index] = home_rating\n",
    "            ratings[away_index] = away_rating\n",
    "        prediction = []\n",
    "        for i in range(len(X_train)):\n",
    "            home_index = ids.index(X_train[i][0])\n",
    "            home_rating = ratings[home_index]\n",
    "            away_index = ids.index(X_train[i][1])\n",
    "            away_rating = ratings[away_index]\n",
    "            home_prediction = 1/(1+c**((away_rating - home_rating)/d))\n",
    "            away_prediction = 1 - home_prediction\n",
    "            if home_prediction - away_prediction > threshold:\n",
    "                prediction.append(2)\n",
    "            elif abs(home_prediction - away_prediction) <= threshold:\n",
    "                prediction.append(1)\n",
    "            else:\n",
    "                prediction.append(0)\n",
    "        prediction = np.array(prediction)\n",
    "        prediction = prediction.reshape(-1,1)\n",
    "        self.ratings = ratings\n",
    "        return ratings, prediction\n",
    "\n",
    "    def predict(self,X_test):\n",
    "        c = 10\n",
    "        d = 400\n",
    "        ids = club_ids\n",
    "        threshold = self.threshold\n",
    "        prediction = []\n",
    "        ratings = self.ratings\n",
    "        for i in range(len(X_test)):\n",
    "            home_index = ids.index(X_test[i][0])\n",
    "            home_rating = ratings[home_index]\n",
    "            away_index = ids.index(X_test[i][1])\n",
    "            away_rating = ratings[away_index]\n",
    "            home_prediction = 1/(1+c**((away_rating - home_rating)/d))\n",
    "            away_prediction = 1 - home_prediction\n",
    "            prediction.append(home_prediction - away_prediction)\n",
    "        prediction = np.array(prediction)\n",
    "        prediction = prediction.reshape(-1,1)\n",
    "        return prediction\n",
    "\n",
    "class MyOneHot:\n",
    "    def __init__(self, categories):\n",
    "        self.categories = sorted(categories)\n",
    "        self.ind2cat = {ind: cat for ind, cat in enumerate(self.categories)}\n",
    "        self.cat2ind = {cat: ind for ind, cat in self.ind2cat.items()}\n",
    "        self.vector_size = len(self.categories)\n",
    "        self.one_hot_vectors = []\n",
    "        for ind, cat in self.ind2cat.items():\n",
    "            v = np.zeros(self.vector_size, dtype=int)\n",
    "            v[ind] = 1\n",
    "            self.one_hot_vectors.append(v)\n",
    "\n",
    "    def __call__(self, category):\n",
    "        return self.one_hot_vectors[self.cat2ind[category]]\n",
    "    \n",
    "def do_exp_1():\n",
    "    X = []\n",
    "    y = []\n",
    "\n",
    "    for match in new_match:\n",
    "\n",
    "        list_home_id = []\n",
    "        list_away_id = []\n",
    "        \n",
    "        list_home_id.append(match['home_id'])\n",
    "        list_away_id.append(match['away_id'])\n",
    "                \n",
    "        x = np.array(list_home_id + list_away_id)  \n",
    "        X.append(x)\n",
    "        y.append(int(match['match_result']))\n",
    "\n",
    "    X = np.asarray(X)\n",
    "    y = np.asarray(y)\n",
    "    X_train, X_test, y_train, y_test = train_test_split(X, y, test_size=0.2, random_state=42)\n",
    "        \n",
    "    print(X_train.shape, y_train.shape)\n",
    "    print(X_test.shape, y_test.shape)\n",
    "    model = JuilELO(threshold = 0.1)\n",
    "    distributions = dict(threshold=uniform(loc=0, scale=1))\n",
    "    clf = RandomizedSearchCV(model, distributions, random_state= 42,scoring = 'r2')\n",
    "    search = clf.fit(X_train,y_train)\n",
    "    thres = search.best_params_['threshold']\n",
    "    prediction = search.predict(X_test)\n",
    "    predd = []\n",
    "    for i in range(len(prediction)):\n",
    "        if prediction[i] > thres:\n",
    "            predd.append(2)\n",
    "        elif abs(prediction[i]) < thres:\n",
    "            predd.append(1)\n",
    "        else:\n",
    "            predd.append(0)\n",
    "    error = 0\n",
    "    for i in range(len(predd)):\n",
    "        if predd[i] != y_test[i]:\n",
    "            error = error + 1\n",
    "    error_rate = error/len(predd)\n",
    "    accuracy = (1 - error_rate) * 100\n",
    "    print('Accuracy Rate: ',accuracy)\n",
    "    pd.set_option('display.float_format',  '{:.2f}'.format)\n",
    "    results = pd.DataFrame(metrics.classification_report(y_test, predd, output_dict=True)).to_latex()\n",
    "    print(results)\n",
    "    print(thres)\n",
    "    \n",
    "    \n",
    "def do_exp_2():\n",
    "    season_no = []\n",
    "    Acc = []\n",
    "    threshold = []\n",
    "    for i in range(len(combined_training_set)):\n",
    "        training_set = combined_training_set[i]\n",
    "        test_set = combined_test_set[i]\n",
    "        season = training_set[i]['season']\n",
    "        print(season,'length of training set is',len(training_set))\n",
    "        print(season,'length of test set is',len(test_set))\n",
    "        X_training = []\n",
    "        y_training = []\n",
    "\n",
    "        for match in training_set:\n",
    "\n",
    "            list_home_id = []\n",
    "            list_away_id = []\n",
    "\n",
    "            list_home_id.append(match['home_id'])\n",
    "            list_away_id.append(match['away_id'])\n",
    "\n",
    "            x = np.array(list_home_id + list_away_id)  \n",
    "            X_training.append(x)\n",
    "            y_training.append(int(match['match_result']))\n",
    "\n",
    "        X_training = np.asarray(X_training)\n",
    "        y_training = np.asarray(y_training)\n",
    "\n",
    "        X_test = []\n",
    "        y_test = []\n",
    "\n",
    "        for match in test_set:\n",
    "\n",
    "            list_home_id = []\n",
    "            list_away_id = []\n",
    "\n",
    "            list_home_id.append(match['home_id'])\n",
    "            list_away_id.append(match['away_id'])\n",
    "\n",
    "            x = np.array(list_home_id + list_away_id)  \n",
    "            X_test.append(x)\n",
    "            y_test.append(int(match['match_result']))\n",
    "\n",
    "        X_test = np.asarray(X_test)\n",
    "        y_test = np.asarray(y_test)\n",
    "\n",
    "        model = JuilELO(threshold = 0.1)\n",
    "        distributions = dict(threshold=uniform(loc=0, scale=1))\n",
    "        clf = RandomizedSearchCV(model, distributions, random_state= 42,scoring = 'r2')\n",
    "        search = clf.fit(X_training,y_training)\n",
    "        thres = search.best_params_['threshold']\n",
    "        prediction = search.predict(X_test)\n",
    "        predd = []\n",
    "        for i in range(len(prediction)):\n",
    "            if prediction[i] > thres:\n",
    "                predd.append(2)\n",
    "            elif abs(prediction[i]) < thres:\n",
    "                predd.append(1)\n",
    "            else:\n",
    "                predd.append(0)\n",
    "        error = 0\n",
    "        for i in range(len(predd)):\n",
    "            if predd[i] != y_test[i]:\n",
    "                error = error + 1\n",
    "        error_rate = error/len(predd)\n",
    "        accuracy = (1 - error_rate) * 100\n",
    "        print(season,'threshold: ',thres)\n",
    "        season_no.append(season)\n",
    "        Acc.append(accuracy)\n",
    "        threshold.append(thres)\n",
    "        pd.set_option('display.float_format',  '{:.2f}'.format)\n",
    "        results = pd.DataFrame(metrics.classification_report(y_test, predd, output_dict=True)).to_latex()\n",
    "        print(results)\n",
    "    plt.figure(1)\n",
    "    plt.plot(season_no,Acc)\n",
    "    plt.ylabel('Accuracy [in %]')\n",
    "    plt.xlabel('Season')\n",
    "    plt.figure(2)\n",
    "    plt.plot(season_no,threshold)\n",
    "    plt.ylabel('Threshold')\n",
    "    plt.xlabel('Season')\n",
    "    plt.show()\n",
    "    "
   ]
  },
  {
   "cell_type": "code",
   "execution_count": 9,
   "id": "da98a0d0-e647-4a37-8b76-5e3bb575e8f3",
   "metadata": {},
   "outputs": [],
   "source": [
    "matches = read_jsonl_file('aml_5525-main/dataset/processed/team_ids_player_idssss.json')"
   ]
  },
  {
   "cell_type": "code",
   "execution_count": 10,
   "id": "bf0d525a-6c7f-474f-91be-b09829edc895",
   "metadata": {},
   "outputs": [],
   "source": [
    "list_matches_correct = []\n",
    "count = 0\n",
    "\n",
    "for i in range(len(matches)):\n",
    "    \n",
    "    if int(matches[i]['season'][:4]) > 2011:\n",
    "        \n",
    "        list_matches_correct.append(count)\n",
    "    \n",
    "    count += 1\n",
    "\n",
    "new_match = []\n",
    "\n",
    "for i in list_matches_correct:\n",
    "    new_match.append(matches[i])"
   ]
  },
  {
   "cell_type": "code",
   "execution_count": 11,
   "id": "abca6f55-50c1-4841-8bb7-8106580eb63c",
   "metadata": {},
   "outputs": [
    {
     "name": "stdout",
     "output_type": "stream",
     "text": [
      "(3034, 2) (3034,)\n",
      "(759, 2) (759,)\n",
      "Accuracy Rate:  42.29249011857708\n",
      "\\begin{tabular}{lrrrrrr}\n",
      "\\toprule\n",
      "{} &      0 &      1 &      2 &  accuracy &  macro avg &  weighted avg \\\\\n",
      "\\midrule\n",
      "precision &   0.48 &   0.25 &   0.59 &      0.42 &       0.44 &          0.48 \\\\\n",
      "recall    &   0.45 &   0.43 &   0.40 &      0.42 &       0.43 &          0.42 \\\\\n",
      "f1-score  &   0.46 &   0.32 &   0.48 &      0.42 &       0.42 &          0.44 \\\\\n",
      "support   & 233.00 & 179.00 & 347.00 &      0.42 &     759.00 &        759.00 \\\\\n",
      "\\bottomrule\n",
      "\\end{tabular}\n",
      "\n",
      "0.3745401188473625\n"
     ]
    },
    {
     "name": "stderr",
     "output_type": "stream",
     "text": [
      "/var/folders/_w/_1pj9jsj1wb68x732tzxywym0000gn/T/ipykernel_57122/1718682273.py:148: FutureWarning: In future versions `DataFrame.to_latex` is expected to utilise the base implementation of `Styler.to_latex` for formatting and rendering. The arguments signature may therefore change. It is recommended instead to use `DataFrame.style.to_latex` which also contains additional functionality.\n",
      "  results = pd.DataFrame(metrics.classification_report(y_test, predd, output_dict=True)).to_latex()\n"
     ]
    }
   ],
   "source": [
    "do_exp_1()"
   ]
  },
  {
   "cell_type": "code",
   "execution_count": 14,
   "id": "5832a7b3-c5e6-40cb-a222-e70267455126",
   "metadata": {},
   "outputs": [
    {
     "name": "stdout",
     "output_type": "stream",
     "text": [
      "2012-13 length of training set is 300\n",
      "2012-13 length of test set is 80\n",
      "2012-13 threshold:  0.3745401188473625\n",
      "\\begin{tabular}{lrrrrrr}\n",
      "\\toprule\n",
      "{} &     0 &     1 &     2 &  accuracy &  macro avg &  weighted avg \\\\\n",
      "\\midrule\n",
      "precision &  0.25 &  0.30 &  0.30 &      0.30 &       0.28 &          0.28 \\\\\n",
      "recall    &  0.04 &  0.80 &  0.11 &      0.30 &       0.32 &          0.30 \\\\\n",
      "f1-score  &  0.06 &  0.44 &  0.16 &      0.30 &       0.22 &          0.21 \\\\\n",
      "support   & 28.00 & 25.00 & 27.00 &      0.30 &      80.00 &         80.00 \\\\\n",
      "\\bottomrule\n",
      "\\end{tabular}\n",
      "\n",
      "2013-14 length of training set is 300\n",
      "2013-14 length of test set is 80\n"
     ]
    },
    {
     "name": "stderr",
     "output_type": "stream",
     "text": [
      "/var/folders/_w/_1pj9jsj1wb68x732tzxywym0000gn/T/ipykernel_57122/1718682273.py:224: FutureWarning: In future versions `DataFrame.to_latex` is expected to utilise the base implementation of `Styler.to_latex` for formatting and rendering. The arguments signature may therefore change. It is recommended instead to use `DataFrame.style.to_latex` which also contains additional functionality.\n",
      "  results = pd.DataFrame(metrics.classification_report(y_test, predd, output_dict=True)).to_latex()\n"
     ]
    },
    {
     "name": "stdout",
     "output_type": "stream",
     "text": [
      "2013-14 threshold:  0.7080725777960455\n",
      "\\begin{tabular}{lrrrrrr}\n",
      "\\toprule\n",
      "{} &     0 &     1 &     2 &  accuracy &  macro avg &  weighted avg \\\\\n",
      "\\midrule\n",
      "precision &  0.40 &  0.15 &  1.00 &      0.21 &       0.52 &          0.70 \\\\\n",
      "recall    &  0.08 &  1.00 &  0.09 &      0.21 &       0.39 &          0.21 \\\\\n",
      "f1-score  &  0.13 &  0.27 &  0.17 &      0.21 &       0.19 &          0.17 \\\\\n",
      "support   & 25.00 & 11.00 & 44.00 &      0.21 &      80.00 &         80.00 \\\\\n",
      "\\bottomrule\n",
      "\\end{tabular}\n",
      "\n",
      "2014-15 length of training set is 300\n",
      "2014-15 length of test set is 80\n"
     ]
    },
    {
     "name": "stderr",
     "output_type": "stream",
     "text": [
      "/var/folders/_w/_1pj9jsj1wb68x732tzxywym0000gn/T/ipykernel_57122/1718682273.py:224: FutureWarning: In future versions `DataFrame.to_latex` is expected to utilise the base implementation of `Styler.to_latex` for formatting and rendering. The arguments signature may therefore change. It is recommended instead to use `DataFrame.style.to_latex` which also contains additional functionality.\n",
      "  results = pd.DataFrame(metrics.classification_report(y_test, predd, output_dict=True)).to_latex()\n"
     ]
    },
    {
     "name": "stdout",
     "output_type": "stream",
     "text": [
      "2014-15 threshold:  0.3745401188473625\n",
      "\\begin{tabular}{lrrrrrr}\n",
      "\\toprule\n",
      "{} &     0 &     1 &     2 &  accuracy &  macro avg &  weighted avg \\\\\n",
      "\\midrule\n",
      "precision &  0.32 &  0.32 &  0.60 &      0.42 &       0.41 &          0.45 \\\\\n",
      "recall    &  0.44 &  0.31 &  0.50 &      0.42 &       0.42 &          0.42 \\\\\n",
      "f1-score  &  0.37 &  0.31 &  0.55 &      0.42 &       0.41 &          0.43 \\\\\n",
      "support   & 18.00 & 26.00 & 36.00 &      0.42 &      80.00 &         80.00 \\\\\n",
      "\\bottomrule\n",
      "\\end{tabular}\n",
      "\n",
      "2015-16 length of training set is 300\n",
      "2015-16 length of test set is 80\n"
     ]
    },
    {
     "name": "stderr",
     "output_type": "stream",
     "text": [
      "/var/folders/_w/_1pj9jsj1wb68x732tzxywym0000gn/T/ipykernel_57122/1718682273.py:224: FutureWarning: In future versions `DataFrame.to_latex` is expected to utilise the base implementation of `Styler.to_latex` for formatting and rendering. The arguments signature may therefore change. It is recommended instead to use `DataFrame.style.to_latex` which also contains additional functionality.\n",
      "  results = pd.DataFrame(metrics.classification_report(y_test, predd, output_dict=True)).to_latex()\n"
     ]
    },
    {
     "name": "stdout",
     "output_type": "stream",
     "text": [
      "2015-16 threshold:  0.7080725777960455\n",
      "\\begin{tabular}{lrrrrrr}\n",
      "\\toprule\n",
      "{} &     0 &     1 &     2 &  accuracy &  macro avg &  weighted avg \\\\\n",
      "\\midrule\n",
      "precision &  0.62 &  0.24 &  0.43 &      0.31 &       0.43 &          0.47 \\\\\n",
      "recall    &  0.15 &  0.82 &  0.20 &      0.31 &       0.39 &          0.31 \\\\\n",
      "f1-score  &  0.24 &  0.37 &  0.27 &      0.31 &       0.30 &          0.28 \\\\\n",
      "support   & 33.00 & 17.00 & 30.00 &      0.31 &      80.00 &         80.00 \\\\\n",
      "\\bottomrule\n",
      "\\end{tabular}\n",
      "\n",
      "2016-17 length of training set is 293\n",
      "2016-17 length of test set is 80\n"
     ]
    },
    {
     "name": "stderr",
     "output_type": "stream",
     "text": [
      "/var/folders/_w/_1pj9jsj1wb68x732tzxywym0000gn/T/ipykernel_57122/1718682273.py:224: FutureWarning: In future versions `DataFrame.to_latex` is expected to utilise the base implementation of `Styler.to_latex` for formatting and rendering. The arguments signature may therefore change. It is recommended instead to use `DataFrame.style.to_latex` which also contains additional functionality.\n",
      "  results = pd.DataFrame(metrics.classification_report(y_test, predd, output_dict=True)).to_latex()\n"
     ]
    },
    {
     "name": "stdout",
     "output_type": "stream",
     "text": [
      "2016-17 threshold:  0.7080725777960455\n",
      "\\begin{tabular}{lrrrrrr}\n",
      "\\toprule\n",
      "{} &     0 &     1 &     2 &  accuracy &  macro avg &  weighted avg \\\\\n",
      "\\midrule\n",
      "precision &  0.25 &  0.30 &  0.56 &      0.34 &       0.37 &          0.42 \\\\\n",
      "recall    &  0.29 &  0.57 &  0.23 &      0.34 &       0.36 &          0.34 \\\\\n",
      "f1-score  &  0.27 &  0.39 &  0.32 &      0.34 &       0.33 &          0.33 \\\\\n",
      "support   & 17.00 & 23.00 & 40.00 &      0.34 &      80.00 &         80.00 \\\\\n",
      "\\bottomrule\n",
      "\\end{tabular}\n",
      "\n",
      "2017-18 length of training set is 300\n",
      "2017-18 length of test set is 80\n"
     ]
    },
    {
     "name": "stderr",
     "output_type": "stream",
     "text": [
      "/var/folders/_w/_1pj9jsj1wb68x732tzxywym0000gn/T/ipykernel_57122/1718682273.py:224: FutureWarning: In future versions `DataFrame.to_latex` is expected to utilise the base implementation of `Styler.to_latex` for formatting and rendering. The arguments signature may therefore change. It is recommended instead to use `DataFrame.style.to_latex` which also contains additional functionality.\n",
      "  results = pd.DataFrame(metrics.classification_report(y_test, predd, output_dict=True)).to_latex()\n"
     ]
    },
    {
     "name": "stdout",
     "output_type": "stream",
     "text": [
      "2017-18 threshold:  0.6011150117432088\n",
      "\\begin{tabular}{lrrrrrr}\n",
      "\\toprule\n",
      "{} &     0 &     1 &     2 &  accuracy &  macro avg &  weighted avg \\\\\n",
      "\\midrule\n",
      "precision &  0.67 &  0.22 &  0.33 &      0.31 &       0.41 &          0.45 \\\\\n",
      "recall    &  0.24 &  0.52 &  0.24 &      0.31 &       0.33 &          0.31 \\\\\n",
      "f1-score  &  0.35 &  0.31 &  0.28 &      0.31 &       0.31 &          0.32 \\\\\n",
      "support   & 34.00 & 21.00 & 25.00 &      0.31 &      80.00 &         80.00 \\\\\n",
      "\\bottomrule\n",
      "\\end{tabular}\n",
      "\n",
      "2018-19 length of training set is 300\n",
      "2018-19 length of test set is 80\n"
     ]
    },
    {
     "name": "stderr",
     "output_type": "stream",
     "text": [
      "/var/folders/_w/_1pj9jsj1wb68x732tzxywym0000gn/T/ipykernel_57122/1718682273.py:224: FutureWarning: In future versions `DataFrame.to_latex` is expected to utilise the base implementation of `Styler.to_latex` for formatting and rendering. The arguments signature may therefore change. It is recommended instead to use `DataFrame.style.to_latex` which also contains additional functionality.\n",
      "  results = pd.DataFrame(metrics.classification_report(y_test, predd, output_dict=True)).to_latex()\n"
     ]
    },
    {
     "name": "stdout",
     "output_type": "stream",
     "text": [
      "2018-19 threshold:  0.05808361216819946\n",
      "\\begin{tabular}{lrrrrrr}\n",
      "\\toprule\n",
      "{} &     0 &     1 &     2 &  accuracy &  macro avg &  weighted avg \\\\\n",
      "\\midrule\n",
      "precision &  0.50 &  1.00 &  0.58 &      0.55 &       0.69 &          0.66 \\\\\n",
      "recall    &  0.78 &  0.10 &  0.66 &      0.55 &       0.51 &          0.55 \\\\\n",
      "f1-score  &  0.61 &  0.17 &  0.62 &      0.55 &       0.47 &          0.50 \\\\\n",
      "support   & 27.00 & 21.00 & 32.00 &      0.55 &      80.00 &         80.00 \\\\\n",
      "\\bottomrule\n",
      "\\end{tabular}\n",
      "\n",
      "2019-20 length of training set is 300\n",
      "2019-20 length of test set is 80\n"
     ]
    },
    {
     "name": "stderr",
     "output_type": "stream",
     "text": [
      "/var/folders/_w/_1pj9jsj1wb68x732tzxywym0000gn/T/ipykernel_57122/1718682273.py:224: FutureWarning: In future versions `DataFrame.to_latex` is expected to utilise the base implementation of `Styler.to_latex` for formatting and rendering. The arguments signature may therefore change. It is recommended instead to use `DataFrame.style.to_latex` which also contains additional functionality.\n",
      "  results = pd.DataFrame(metrics.classification_report(y_test, predd, output_dict=True)).to_latex()\n"
     ]
    },
    {
     "name": "stdout",
     "output_type": "stream",
     "text": [
      "2019-20 threshold:  0.7319939418114051\n",
      "\\begin{tabular}{lrrrrrr}\n",
      "\\toprule\n",
      "{} &     0 &     1 &     2 &  accuracy &  macro avg &  weighted avg \\\\\n",
      "\\midrule\n",
      "precision &  0.44 &  0.22 &  0.57 &      0.36 &       0.41 &          0.43 \\\\\n",
      "recall    &  0.35 &  0.38 &  0.36 &      0.36 &       0.36 &          0.36 \\\\\n",
      "f1-score  &  0.39 &  0.28 &  0.44 &      0.36 &       0.37 &          0.38 \\\\\n",
      "support   & 23.00 & 24.00 & 33.00 &      0.36 &      80.00 &         80.00 \\\\\n",
      "\\bottomrule\n",
      "\\end{tabular}\n",
      "\n",
      "2020-21 length of training set is 300\n",
      "2020-21 length of test set is 80\n"
     ]
    },
    {
     "name": "stderr",
     "output_type": "stream",
     "text": [
      "/var/folders/_w/_1pj9jsj1wb68x732tzxywym0000gn/T/ipykernel_57122/1718682273.py:224: FutureWarning: In future versions `DataFrame.to_latex` is expected to utilise the base implementation of `Styler.to_latex` for formatting and rendering. The arguments signature may therefore change. It is recommended instead to use `DataFrame.style.to_latex` which also contains additional functionality.\n",
      "  results = pd.DataFrame(metrics.classification_report(y_test, predd, output_dict=True)).to_latex()\n"
     ]
    },
    {
     "name": "stdout",
     "output_type": "stream",
     "text": [
      "2020-21 threshold:  0.5986584841970366\n",
      "\\begin{tabular}{lrrrrrr}\n",
      "\\toprule\n",
      "{} &     0 &     1 &     2 &  accuracy &  macro avg &  weighted avg \\\\\n",
      "\\midrule\n",
      "precision &  0.72 &  0.19 &  0.57 &      0.46 &       0.49 &          0.58 \\\\\n",
      "recall    &  0.50 &  0.50 &  0.41 &      0.46 &       0.47 &          0.46 \\\\\n",
      "f1-score  &  0.59 &  0.27 &  0.47 &      0.46 &       0.45 &          0.50 \\\\\n",
      "support   & 36.00 & 12.00 & 32.00 &      0.46 &      80.00 &         80.00 \\\\\n",
      "\\bottomrule\n",
      "\\end{tabular}\n",
      "\n",
      "2021-22 length of training set is 300\n",
      "2021-22 length of test set is 80\n"
     ]
    },
    {
     "name": "stderr",
     "output_type": "stream",
     "text": [
      "/var/folders/_w/_1pj9jsj1wb68x732tzxywym0000gn/T/ipykernel_57122/1718682273.py:224: FutureWarning: In future versions `DataFrame.to_latex` is expected to utilise the base implementation of `Styler.to_latex` for formatting and rendering. The arguments signature may therefore change. It is recommended instead to use `DataFrame.style.to_latex` which also contains additional functionality.\n",
      "  results = pd.DataFrame(metrics.classification_report(y_test, predd, output_dict=True)).to_latex()\n"
     ]
    },
    {
     "name": "stdout",
     "output_type": "stream",
     "text": [
      "2021-22 threshold:  0.3745401188473625\n",
      "\\begin{tabular}{lrrrrrr}\n",
      "\\toprule\n",
      "{} &     0 &     1 &     2 &  accuracy &  macro avg &  weighted avg \\\\\n",
      "\\midrule\n",
      "precision &  0.59 &  0.28 &  0.54 &      0.46 &       0.47 &          0.50 \\\\\n",
      "recall    &  0.59 &  0.47 &  0.36 &      0.46 &       0.47 &          0.46 \\\\\n",
      "f1-score  &  0.59 &  0.35 &  0.43 &      0.46 &       0.46 &          0.47 \\\\\n",
      "support   & 27.00 & 17.00 & 36.00 &      0.46 &      80.00 &         80.00 \\\\\n",
      "\\bottomrule\n",
      "\\end{tabular}\n",
      "\n"
     ]
    },
    {
     "name": "stderr",
     "output_type": "stream",
     "text": [
      "/var/folders/_w/_1pj9jsj1wb68x732tzxywym0000gn/T/ipykernel_57122/1718682273.py:224: FutureWarning: In future versions `DataFrame.to_latex` is expected to utilise the base implementation of `Styler.to_latex` for formatting and rendering. The arguments signature may therefore change. It is recommended instead to use `DataFrame.style.to_latex` which also contains additional functionality.\n",
      "  results = pd.DataFrame(metrics.classification_report(y_test, predd, output_dict=True)).to_latex()\n"
     ]
    },
    {
     "data": {
      "image/png": "[encoded data removed]",
      "text/plain": [
       "<Figure size 432x288 with 1 Axes>"
      ]
     },
     "metadata": {
      "needs_background": "light"
     },
     "output_type": "display_data"
    },
    {
     "data": {
      "image/png": "[encoded data removed]",
      "text/plain": [
       "<Figure size 432x288 with 1 Axes>"
      ]
     },
     "metadata": {
      "needs_background": "light"
     },
     "output_type": "display_data"
    }
   ],
   "source": [
    "do_exp_2()"
   ]
  },
  {
   "cell_type": "code",
   "execution_count": null,
   "id": "42efe370-a0bb-48f3-82b3-69ee6bff5fe4",
   "metadata": {},
   "outputs": [],
   "source": []
  }
 ],
 "metadata": {
  "kernelspec": {
   "display_name": "Python 3 (ipykernel)",
   "language": "python",
   "name": "python3"
  },
  "language_info": {
   "codemirror_mode": {
    "name": "ipython",
    "version": 3
   },
   "file_extension": ".py",
   "mimetype": "text/x-python",
   "name": "python",
   "nbconvert_exporter": "python",
   "pygments_lexer": "ipython3",
   "version": "3.9.12"
  }
 },
 "nbformat": 4,
 "nbformat_minor": 5
}
