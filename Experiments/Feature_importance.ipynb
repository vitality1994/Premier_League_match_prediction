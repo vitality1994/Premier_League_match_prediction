{
 "cells": [
  {
   "cell_type": "code",
   "execution_count": 1,
   "id": "ea193a66",
   "metadata": {},
   "outputs": [],
   "source": [
    "import json\n",
    "import warnings\n",
    "import copy\n",
    "\n",
    "import numpy as np\n",
    "import pandas as pd\n",
    "\n",
    "from sklearn.ensemble import RandomForestClassifier\n",
    "from sklearn.model_selection import train_test_split\n",
    "\n",
    "import matplotlib.pyplot as plt\n",
    "import seaborn as sns\n",
    "\n",
    "warnings.filterwarnings(action='ignore')\n",
    "\n",
    "\n",
    "def read_jsonl_file(path):\n",
    "    json_lines = []\n",
    "    with open(path, 'r') as f:\n",
    "        for line in f:\n",
    "            json_lines.append(json.loads(line.strip()))\n",
    "    return json_lines\n",
    "\n",
    "\n",
    "\n",
    "def extract_importances():\n",
    "    \n",
    "    \n",
    "    X = []\n",
    "    y = []\n",
    "    for match in matches:\n",
    "\n",
    "        list_att_home = []\n",
    "        list_att_away = []\n",
    "\n",
    "        for i in match['home_players']:\n",
    "            \n",
    "            # assign hometeam goalkeeper's attributes first.\n",
    "            if merged_data[str(i)]['is_goalkeeper']==1:\n",
    "                key_home_keeper = i\n",
    "                \n",
    "                for k, j in merged_data[str(i)]['premier_stats'].items():\n",
    "                    list_att_home.append(j)\n",
    "\n",
    "                for k, j in merged_data[str(i)]['fm_stats'].items():\n",
    "                    list_att_home.append(j)\n",
    "        \n",
    "        for i in match['home_players']:\n",
    "            \n",
    "            # assign hometeam field players' attributes.\n",
    "            if i != key_home_keeper:\n",
    "                \n",
    "                for k, j in merged_data[str(i)]['premier_stats'].items():\n",
    "                    list_att_home.append(j)\n",
    "\n",
    "                for k, j in merged_data[str(i)]['fm_stats'].items():\n",
    "                    list_att_home.append(j)\n",
    "\n",
    "                    \n",
    "                    \n",
    "        for i in match['away_players']:\n",
    "            \n",
    "            # assign awayteam goalkeeper's attributes first.\n",
    "            if merged_data[str(i)]['is_goalkeeper']==1:\n",
    "                key_away_keeper = i\n",
    "                \n",
    "                for k, j in merged_data[str(i)]['premier_stats'].items():\n",
    "                    list_att_away.append(j)\n",
    "\n",
    "                for k, j in merged_data[str(i)]['fm_stats'].items():\n",
    "                    list_att_away.append(j)\n",
    "        \n",
    "        for i in match['away_players']:\n",
    "            \n",
    "            # assign awayteam field players' attributes.\n",
    "            if i != key_away_keeper:\n",
    "                \n",
    "                for k, j in merged_data[str(i)]['premier_stats'].items():\n",
    "                    list_att_away.append(j)\n",
    "\n",
    "                for k, j in merged_data[str(i)]['fm_stats'].items():\n",
    "                    list_att_away.append(j)\n",
    "\n",
    "                \n",
    "        x = np.array(list_att_away + list_att_home)    \n",
    "        X.append(x)\n",
    "        y.append(int(match['match_result']))\n",
    "\n",
    "        \n",
    "    X = np.asarray(X)\n",
    "    y = np.asarray(y)\n",
    "\n",
    "    X_train, X_test, y_train, y_test = train_test_split(X, y, test_size=0.2, random_state=42)\n",
    "    \n",
    "    clf = RandomForestClassifier(random_state = 42, class_weight='balanced')\n",
    "    \n",
    "    feature_names = [f'feature {i}' for i in range(X.shape[1])]\n",
    "    clf.fit(X_train, y_train)\n",
    "    importances = clf.feature_importances_\n",
    "    std = np.std([tree.feature_importances_ for tree in clf.estimators_], axis=0)\n",
    "    clf_importances = pd.Series(importances, index=feature_names)\n",
    "\n",
    "    return clf_importances"
   ]
  },
  {
   "cell_type": "code",
   "execution_count": 2,
   "id": "543463f0",
   "metadata": {},
   "outputs": [],
   "source": [
    "matches = read_jsonl_file('/Users/jooyong/github_locals/aml_5525/aml_5525/dataset/processed/team_ids_player_ids.json')\n",
    "\n",
    "with open('/Users/jooyong/github_locals/aml_5525/aml_5525/dataset/merged_data/final_players(normalized_official).json') as f:\n",
    "    merged_data = json.load(f)"
   ]
  },
  {
   "cell_type": "code",
   "execution_count": 3,
   "id": "8178fdbc",
   "metadata": {},
   "outputs": [],
   "source": [
    "clf_importances = extract_importances()"
   ]
  },
  {
   "cell_type": "code",
   "execution_count": 4,
   "id": "f903765a",
   "metadata": {},
   "outputs": [],
   "source": [
    "importances = list(clf_importances)"
   ]
  },
  {
   "cell_type": "code",
   "execution_count": 5,
   "id": "1fb79422",
   "metadata": {},
   "outputs": [],
   "source": [
    "dict_importances = {}\n",
    "\n",
    "home_keeper_importances = importances[:66]\n",
    "home_field_importances = importances[66:706]\n",
    "away_keeper_importances = importances[706:772]\n",
    "away_field_importances = importances[772:]\n",
    "\n",
    "dict_importances['home_keeper'] = home_keeper_importances\n",
    "\n",
    "for i in range(10):\n",
    "    dict_importances[f'home_field_{i+1}'] = home_field_importances[64*(i):64*(i+1)]\n",
    "\n",
    "dict_importances['away_keeper'] = away_keeper_importances    \n",
    "\n",
    "for i in range(10):\n",
    "    dict_importances[f'away_field_{i+1}'] = away_field_importances[64*(i):64*(i+1)]"
   ]
  },
  {
   "cell_type": "code",
   "execution_count": 6,
   "id": "a40460c6",
   "metadata": {},
   "outputs": [
    {
     "data": {
      "image/png": "[encoded data removed]",
      "text/plain": [
       "<Figure size 2000x800 with 22 Axes>"
      ]
     },
     "metadata": {},
     "output_type": "display_data"
    }
   ],
   "source": [
    "plt.figure(figsize=(20,8))\n",
    "\n",
    "for i in range(len(dict_importances)):\n",
    "    \n",
    "    if list(dict_importances.keys())[i] == 'home_keeper' or list(dict_importances.keys())[i] == 'away_keeper':\n",
    "        temp = np.reshape(dict_importances[list(dict_importances.keys())[i]], (11,6))\n",
    "        temp = pd.DataFrame(temp)\n",
    "    \n",
    "    else:\n",
    "        temp = np.reshape(dict_importances[list(dict_importances.keys())[i]], (8,8))\n",
    "        temp = pd.DataFrame(temp)       \n",
    "    \n",
    "    plt.subplot(2, 11, i+1)\n",
    "    sns.heatmap(temp, cbar=False, xticklabels=False, yticklabels=False)\n",
    "    plt.xlabel(list(dict_importances.keys())[i])"
   ]
  },
  {
   "cell_type": "code",
   "execution_count": 7,
   "id": "5a701df5",
   "metadata": {},
   "outputs": [
    {
     "name": "stdout",
     "output_type": "stream",
     "text": [
      "top_20 important attributes of field players\n",
      "['losses', 'wins', 'attempts_conceded_ibox', 'draws', 'mins_played', 'attempts_conceded_obox', 'total_final_third_passes', 'accurate_fwd_zone_pass', 'total_pass', 'accurate_pass', 'successful_final_third_passes', 'duel_won', 'poss_lost_all', 'touches', 'Sell value', 'duel_lost', 'ability', 'appearances', 'total_fwd_zone_pass', 'potential']\n"
     ]
    }
   ],
   "source": [
    "fields = home_field_importances + away_field_importances\n",
    "fields = np.reshape(fields, (20, 64))\n",
    "fields = pd.DataFrame(fields)\n",
    "\n",
    "list_ave_imp_fields = []\n",
    "for i in range(64):\n",
    "    list_ave_imp_fields.append(fields[i].mean())\n",
    "    \n",
    "list_ave_imp_fields_copy = copy.deepcopy(list_ave_imp_fields)\n",
    "\n",
    "list_ave_imp_fields.sort(reverse=True)\n",
    "top_20 = list_ave_imp_fields[:20]\n",
    "\n",
    "index_top_20 = []\n",
    "for i in top_20:\n",
    "    index_top_20.append(list_ave_imp_fields_copy.index(i))\n",
    "    \n",
    "list_atts_field = []\n",
    "for i in merged_data['2008']['premier_stats'].keys():\n",
    "    list_atts_field.append(i)\n",
    "for i in merged_data['2008']['fm_stats'].keys():\n",
    "    list_atts_field.append(i)\n",
    "    \n",
    "selected_field_att = []\n",
    "for i in index_top_20:\n",
    "    selected_field_att.append(list_atts_field[i])\n",
    "  \n",
    "print('top_20 important attributes of field players')\n",
    "print(selected_field_att)"
   ]
  },
  {
   "cell_type": "code",
   "execution_count": 8,
   "id": "20500db5",
   "metadata": {},
   "outputs": [
    {
     "name": "stdout",
     "output_type": "stream",
     "text": [
      "top_20 important attributes of goalkeepers\n",
      "['losses', 'wins', 'attempts_conceded_ibox', 'potential', 'saves', 'poss_lost_all', 'poss_lost_ctrl', 'total_long_balls', 'long_pass_own_to_opp', 'accurate_back_zone_pass', 'accurate_long_balls', 'Sell value', 'ability', 'touches', 'goal_kicks', 'mins_played', 'Anticipation', 'keeper_throws', 'ball_recovery', 'total_fwd_zone_pass']\n"
     ]
    }
   ],
   "source": [
    "keepers = home_keeper_importances + away_keeper_importances\n",
    "keepers = np.reshape(keepers, (2, 66))\n",
    "keepers = pd.DataFrame(keepers)\n",
    "\n",
    "list_ave_imp_keepers = []\n",
    "for i in range(66):\n",
    "    list_ave_imp_keepers.append(keepers[i].mean())\n",
    "    \n",
    "list_ave_imp_keepers_copy = copy.deepcopy(list_ave_imp_keepers)\n",
    "\n",
    "list_ave_imp_keepers.sort(reverse=True)\n",
    "top_20 = list_ave_imp_keepers[:20]\n",
    "\n",
    "index_top_20 = []\n",
    "for i in top_20:\n",
    "    index_top_20.append(list_ave_imp_keepers_copy.index(i))\n",
    "    \n",
    "list_atts_keeper = []\n",
    "for i in merged_data['54392']['premier_stats'].keys():\n",
    "    list_atts_keeper.append(i)\n",
    "for i in merged_data['54392']['fm_stats'].keys():\n",
    "    list_atts_keeper.append(i)\n",
    "    \n",
    "selected_keeper_att = []\n",
    "for i in index_top_20:\n",
    "    selected_keeper_att.append(list_atts_keeper[i])\n",
    "    \n",
    "print('top_20 important attributes of goalkeepers')\n",
    "print(selected_keeper_att)"
   ]
  }
 ],
 "metadata": {
  "kernelspec": {
   "display_name": "Python 3 (ipykernel)",
   "language": "python",
   "name": "python3"
  },
  "language_info": {
   "codemirror_mode": {
    "name": "ipython",
    "version": 3
   },
   "file_extension": ".py",
   "mimetype": "text/x-python",
   "name": "python",
   "nbconvert_exporter": "python",
   "pygments_lexer": "ipython3",
   "version": "3.9.12"
  }
 },
 "nbformat": 4,
 "nbformat_minor": 5
}
