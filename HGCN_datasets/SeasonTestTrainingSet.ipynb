{
 "cells": [
  {
   "cell_type": "code",
   "execution_count": 4,
   "id": "96115574-4fe8-47d8-af8d-2380836a5282",
   "metadata": {},
   "outputs": [],
   "source": [
    "import json\n",
    "\n",
    "def read_jsonl_file(path):\n",
    "    json_lines = []\n",
    "    with open(path, 'r') as f:\n",
    "        for line in f:\n",
    "            json_lines.append(json.loads(line.strip()))\n",
    "    return json_lines\n",
    "\n",
    "matches = read_jsonl_file('aml_5525-main/dataset/processed/team_ids_player_idssss.json')"
   ]
  },
  {
   "cell_type": "code",
   "execution_count": 64,
   "id": "16e3b455-8ecb-4510-a703-857d2790c58e",
   "metadata": {},
   "outputs": [
    {
     "name": "stdout",
     "output_type": "stream",
     "text": [
      "2012-13 season length of test set is 80\n",
      "2012-13 season length of training set is 300\n",
      "2013-14 season length of test set is 80\n",
      "2013-14 season length of training set is 300\n",
      "2014-15 season length of test set is 80\n",
      "2014-15 season length of training set is 300\n",
      "2015-16 season length of test set is 80\n",
      "2015-16 season length of training set is 300\n",
      "2016-17 season length of test set is 80\n",
      "2016-17 season length of training set is 293\n",
      "2017-18 season length of test set is 80\n",
      "2017-18 season length of training set is 300\n",
      "2018-19 season length of test set is 80\n",
      "2018-19 season length of training set is 300\n",
      "2019-20 season length of test set is 80\n",
      "2019-20 season length of training set is 300\n",
      "2020-21 season length of test set is 80\n",
      "2020-21 season length of training set is 300\n",
      "2021-22 season length of test set is 80\n",
      "2021-22 season length of training set is 300\n"
     ]
    }
   ],
   "source": [
    "import random\n",
    "\n",
    "random.shuffle\n",
    "\n",
    "club_ids = [23, 4, 3, 40, 1, 7, 25, 27, 12, 31, 21, 33, 11, 39, 13, 2, 34, 37, 18, 10, 29, 26, 5, 19, 22, 28, 15, 9, 20, 42, 127, 45, 36, 6, 14, 17, 8, 35, 16, 24, 38, 43, 131, 32, 159, 46, 41, 130, 44, 30]\n",
    "season_match = {'2012-13':[],'2013-14':[],'2014-15':[],'2015-16':[],'2016-17':[],'2017-18':[],'2018-19':[],'2019-20':[],'2020-21':[],'2021-22':[]}\n",
    "season_no = ['2012-13','2013-14','2014-15','2015-16','2016-17','2017-18','2018-19','2019-20','2020-21','2021-22']\n",
    "\n",
    "combined_test_set = []\n",
    "combined_training_set = []\n",
    "\n",
    "for i in range(len(matches)):\n",
    "    one_match = matches[i]\n",
    "    season = one_match['season']\n",
    "    season_match[season].append(one_match)\n",
    "\n",
    "for j in season_no:\n",
    "    test_set = []\n",
    "    training_set = []\n",
    "    combined = season_match[j]\n",
    "    random.shuffle(combined)\n",
    "    for i in range(len(club_ids)):\n",
    "        club_id = club_ids[i]\n",
    "        matched = 1\n",
    "        for match in combined:\n",
    "            home_id = match['home_id']\n",
    "            if club_id == home_id and matched < 5:\n",
    "                test_set.append(match)\n",
    "                matched = matched + 1\n",
    "            elif club_id == home_id and matched > 4:\n",
    "                training_set.append(match)\n",
    "    print(j,'season','length of test set is',len(test_set))\n",
    "    print(j,'season','length of training set is',len(training_set))\n",
    "    combined_test_set.append(test_set)\n",
    "    combined_training_set.append(training_set)\n",
    "    \n",
    "#combined_test_set[0]은 2012-13시즌 test_set이고.....이런 식으로 정리했습니다."
   ]
  },
  {
   "cell_type": "code",
   "execution_count": null,
   "id": "7f3dab1e-d949-424b-a5c4-9e4ee32b9bb6",
   "metadata": {},
   "outputs": [],
   "source": []
  },
  {
   "cell_type": "code",
   "execution_count": null,
   "id": "82d4daa4-9fc7-4489-b026-d552c815a8cf",
   "metadata": {},
   "outputs": [],
   "source": []
  }
 ],
 "metadata": {
  "kernelspec": {
   "display_name": "Python 3 (ipykernel)",
   "language": "python",
   "name": "python3"
  },
  "language_info": {
   "codemirror_mode": {
    "name": "ipython",
    "version": 3
   },
   "file_extension": ".py",
   "mimetype": "text/x-python",
   "name": "python",
   "nbconvert_exporter": "python",
   "pygments_lexer": "ipython3",
   "version": "3.9.12"
  }
 },
 "nbformat": 4,
 "nbformat_minor": 5
}
